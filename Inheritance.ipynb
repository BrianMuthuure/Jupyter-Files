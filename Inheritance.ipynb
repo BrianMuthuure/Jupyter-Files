{
 "cells": [
  {
   "cell_type": "code",
   "execution_count": 6,
   "metadata": {},
   "outputs": [],
   "source": [
    "class Animal:\n",
    "    def __init__(self, name, age):\n",
    "        self.name = name\n",
    "        self.age = age\n",
    "        \n",
    "    def display(self):\n",
    "        print(f\"This is {self.name} and its {self.age} years old\")"
   ]
  },
  {
   "cell_type": "code",
   "execution_count": 9,
   "metadata": {},
   "outputs": [
    {
     "name": "stdout",
     "output_type": "stream",
     "text": [
      "This is Kabaka and its 7 years old\n",
      "Meaaaw\n"
     ]
    }
   ],
   "source": [
    "class Cat(Animal):\n",
    "    def sound(self):\n",
    "        print(\"Meaaaw\")\n",
    "        \n",
    "c = Cat('Kabaka', 7)\n",
    "c.display()\n",
    "c.sound()"
   ]
  },
  {
   "cell_type": "code",
   "execution_count": 10,
   "metadata": {},
   "outputs": [
    {
     "name": "stdout",
     "output_type": "stream",
     "text": [
      "This is patis and its 17 years old\n",
      "barks\n"
     ]
    }
   ],
   "source": [
    "class Dog(Animal):\n",
    "    def sound(self):\n",
    "        print(\"barks\")\n",
    "        \n",
    "d = Dog('patis', 17)\n",
    "d.display()\n",
    "d.sound()"
   ]
  },
  {
   "cell_type": "code",
   "execution_count": null,
   "metadata": {},
   "outputs": [],
   "source": []
  }
 ],
 "metadata": {
  "kernelspec": {
   "display_name": "Python 3",
   "language": "python",
   "name": "python3"
  },
  "language_info": {
   "codemirror_mode": {
    "name": "ipython",
    "version": 3
   },
   "file_extension": ".py",
   "mimetype": "text/x-python",
   "name": "python",
   "nbconvert_exporter": "python",
   "pygments_lexer": "ipython3",
   "version": "3.7.3"
  }
 },
 "nbformat": 4,
 "nbformat_minor": 2
}
